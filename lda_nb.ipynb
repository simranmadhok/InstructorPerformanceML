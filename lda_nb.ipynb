{
 "cells": [
  {
   "cell_type": "code",
   "execution_count": 6,
   "metadata": {},
   "outputs": [],
   "source": [
    "%matplotlib inline\n",
    "import pandas as pd\n",
    "from sklearn.model_selection import train_test_split  \n",
    "from sklearn.discriminant_analysis import LinearDiscriminantAnalysis\n",
    "from sklearn.metrics import classification_report, confusion_matrix, roc_auc_score, roc_curve, accuracy_score\n",
    "import matplotlib.pyplot as plt\n",
    "from sklearn.metrics import accuracy_score"
   ]
  },
  {
   "cell_type": "code",
   "execution_count": 7,
   "metadata": {},
   "outputs": [
    {
     "name": "stdout",
     "output_type": "stream",
     "text": [
      "\n",
      "ds.shape: (5820, 35)\n",
      "\n",
      "after filter ds.shape: (2762, 35)\n"
     ]
    }
   ],
   "source": [
    "ds = pd.read_csv(r\"final_dataset.csv\")\n",
    "print(\"\\nds.shape:\", ds.shape)\n",
    "ds = ds.loc[(ds['nb.repeat']<=2) & (ds['attendance']>=2)]\n",
    "print(\"\\nafter filter ds.shape:\", ds.shape)"
   ]
  },
  {
   "cell_type": "code",
   "execution_count": 8,
   "metadata": {},
   "outputs": [
    {
     "name": "stdout",
     "output_type": "stream",
     "text": [
      "-------------------------------------------------------\n",
      "DECISION TREE ------> INSTRUCTOR 1\n",
      "-------------------------------------------------------\n",
      "\n",
      "instructor 1 shape: (448, 35)\n"
     ]
    }
   ],
   "source": [
    "print(\"-------------------------------------------------------\")\n",
    "print(\"DECISION TREE ------> INSTRUCTOR 1\")\n",
    "print(\"-------------------------------------------------------\")\n",
    "ds_instr_1 = ds.loc[ds['instr']==1]\n",
    "print(\"\\ninstructor 1 shape:\", ds_instr_1.shape)"
   ]
  },
  {
   "cell_type": "code",
   "execution_count": 9,
   "metadata": {},
   "outputs": [],
   "source": [
    "X1 = ds_instr_1.drop('PERFORMANCE', axis=1) \n",
    "y1 = ds_instr_1['PERFORMANCE'] "
   ]
  },
  {
   "cell_type": "code",
   "execution_count": 10,
   "metadata": {},
   "outputs": [
    {
     "name": "stderr",
     "output_type": "stream",
     "text": [
      "C:\\Users\\Simran\\Anaconda3\\lib\\site-packages\\sklearn\\discriminant_analysis.py:388: UserWarning: Variables are collinear.\n",
      "  warnings.warn(\"Variables are collinear.\")\n"
     ]
    }
   ],
   "source": [
    "X_train, X_test, y_train, y_test = train_test_split(X1, y1, test_size=0.20)\n",
    "classifier = LinearDiscriminantAnalysis(n_components = 2)\n",
    "classifier.fit(X_train, y_train)\n",
    "y_test_pred = classifier.predict(X_test)"
   ]
  },
  {
   "cell_type": "code",
   "execution_count": 11,
   "metadata": {},
   "outputs": [
    {
     "name": "stdout",
     "output_type": "stream",
     "text": [
      "\n",
      "Confusion Matrix\n",
      "\n",
      "[[24  2]\n",
      " [ 1 63]]\n"
     ]
    }
   ],
   "source": [
    "print(\"\\nConfusion Matrix\\n\")\n",
    "print(confusion_matrix(y_test, y_test_pred)) "
   ]
  },
  {
   "cell_type": "code",
   "execution_count": 12,
   "metadata": {},
   "outputs": [
    {
     "name": "stdout",
     "output_type": "stream",
     "text": [
      "\n",
      "Classification Report\n",
      "\n",
      "              precision    recall  f1-score   support\n",
      "\n",
      "           0       0.96      0.92      0.94        26\n",
      "           1       0.97      0.98      0.98        64\n",
      "\n",
      "   micro avg       0.97      0.97      0.97        90\n",
      "   macro avg       0.96      0.95      0.96        90\n",
      "weighted avg       0.97      0.97      0.97        90\n",
      "\n"
     ]
    }
   ],
   "source": [
    "print(\"\\nClassification Report\\n\")\n",
    "print(classification_report(y_test, y_test_pred))  "
   ]
  },
  {
   "cell_type": "code",
   "execution_count": 13,
   "metadata": {},
   "outputs": [
    {
     "name": "stdout",
     "output_type": "stream",
     "text": [
      "\n",
      "\\Accuracy Score\n",
      "\n",
      "0.9666666666666667\n"
     ]
    }
   ],
   "source": [
    "print(\"\\n\\Accuracy Score\\n\")\n",
    "print(accuracy_score(y_test, y_test_pred))"
   ]
  },
  {
   "cell_type": "code",
   "execution_count": 14,
   "metadata": {},
   "outputs": [
    {
     "name": "stdout",
     "output_type": "stream",
     "text": [
      "---------------------------------------TEST DATA [ROC AUC]----------------------------------------------\n",
      "\n",
      "Receiver Operating Characteristic Curve (ROC AUC) \n",
      "\n",
      "0.9537259615384617\n"
     ]
    }
   ],
   "source": [
    "print(\"---------------------------------------TEST DATA [ROC AUC]----------------------------------------------\")\n",
    "print(\"\\nReceiver Operating Characteristic Curve (ROC AUC) \\n\")\n",
    "print(roc_auc_score(y_test, y_test_pred))\n",
    "fpr, tpr, _ = roc_curve(y_test, y_test_pred)"
   ]
  },
  {
   "cell_type": "code",
   "execution_count": 15,
   "metadata": {},
   "outputs": [
    {
     "data": {
      "image/png": "[encoded data removed]",
      "text/plain": [
       "<Figure size 432x288 with 1 Axes>"
      ]
     },
     "metadata": {
      "needs_background": "light"
     },
     "output_type": "display_data"
    }
   ],
   "source": [
    "plt.clf()\n",
    "plt.plot(fpr, tpr)\n",
    "plt.xlabel('FPR')\n",
    "plt.ylabel('TPR')\n",
    "plt.title('ROC curve')\n",
    "plt.show()"
   ]
  },
  {
   "cell_type": "code",
   "execution_count": 16,
   "metadata": {},
   "outputs": [
    {
     "name": "stdout",
     "output_type": "stream",
     "text": [
      "\n",
      "Variable Importance Graph\n",
      "\n"
     ]
    },
    {
     "data": {
      "text/plain": [
       "<matplotlib.axes._subplots.AxesSubplot at 0x1af000694e0>"
      ]
     },
     "execution_count": 16,
     "metadata": {},
     "output_type": "execute_result"
    },
    {
     "data": {
      "image/png": "[encoded data removed]",
      "text/plain": [
       "<Figure size 432x288 with 1 Axes>"
      ]
     },
     "metadata": {
      "needs_background": "light"
     },
     "output_type": "display_data"
    }
   ],
   "source": [
    "print(\"\\nVariable Importance Graph\\n\")\n",
    "(pd.Series(classifier.coef_[0], index=X_test.columns)\n",
    "   .nlargest(4)\n",
    "   .plot(kind='barh')\n",
    ")"
   ]
  },
  {
   "cell_type": "code",
   "execution_count": 17,
   "metadata": {},
   "outputs": [
    {
     "name": "stdout",
     "output_type": "stream",
     "text": [
      "-------------------------------------------------------\n",
      "DECISION TREE ------> INSTRUCTOR 2\n",
      "-------------------------------------------------------\n",
      "\n",
      "instructor 2 shape: (746, 35)\n"
     ]
    }
   ],
   "source": [
    "print(\"-------------------------------------------------------\")\n",
    "print(\"DECISION TREE ------> INSTRUCTOR 2\")\n",
    "print(\"-------------------------------------------------------\")\n",
    "ds_instr_2 = ds.loc[ds['instr']==2]\n",
    "print(\"\\ninstructor 2 shape:\", ds_instr_2.shape)"
   ]
  },
  {
   "cell_type": "code",
   "execution_count": 18,
   "metadata": {},
   "outputs": [],
   "source": [
    "X2 = ds_instr_2.drop('PERFORMANCE', axis=1) \n",
    "y2 = ds_instr_2['PERFORMANCE'] "
   ]
  },
  {
   "cell_type": "code",
   "execution_count": 19,
   "metadata": {},
   "outputs": [
    {
     "name": "stderr",
     "output_type": "stream",
     "text": [
      "C:\\Users\\Simran\\Anaconda3\\lib\\site-packages\\sklearn\\discriminant_analysis.py:388: UserWarning: Variables are collinear.\n",
      "  warnings.warn(\"Variables are collinear.\")\n"
     ]
    }
   ],
   "source": [
    "X_train, X_test, y_train, y_test = train_test_split(X2, y2, test_size=0.20)\n",
    "classifier = LinearDiscriminantAnalysis(n_components = 2)\n",
    "classifier.fit(X_train, y_train)\n",
    "y_test_pred = classifier.predict(X_test)"
   ]
  },
  {
   "cell_type": "code",
   "execution_count": 20,
   "metadata": {},
   "outputs": [
    {
     "name": "stdout",
     "output_type": "stream",
     "text": [
      "\n",
      "Confusion Matrix\n",
      "\n",
      "[[ 13   6]\n",
      " [  3 128]]\n"
     ]
    }
   ],
   "source": [
    "print(\"\\nConfusion Matrix\\n\")\n",
    "print(confusion_matrix(y_test, y_test_pred)) "
   ]
  },
  {
   "cell_type": "code",
   "execution_count": 21,
   "metadata": {},
   "outputs": [
    {
     "name": "stdout",
     "output_type": "stream",
     "text": [
      "\n",
      "Classification Report\n",
      "\n",
      "              precision    recall  f1-score   support\n",
      "\n",
      "           0       0.81      0.68      0.74        19\n",
      "           1       0.96      0.98      0.97       131\n",
      "\n",
      "   micro avg       0.94      0.94      0.94       150\n",
      "   macro avg       0.88      0.83      0.85       150\n",
      "weighted avg       0.94      0.94      0.94       150\n",
      "\n"
     ]
    }
   ],
   "source": [
    "print(\"\\nClassification Report\\n\")\n",
    "print(classification_report(y_test, y_test_pred)) "
   ]
  },
  {
   "cell_type": "code",
   "execution_count": 22,
   "metadata": {},
   "outputs": [
    {
     "name": "stdout",
     "output_type": "stream",
     "text": [
      "\n",
      "\\Accuracy Score\n",
      "\n",
      "0.94\n"
     ]
    }
   ],
   "source": [
    "print(\"\\n\\Accuracy Score\\n\")\n",
    "print(accuracy_score(y_test, y_test_pred))"
   ]
  },
  {
   "cell_type": "code",
   "execution_count": 23,
   "metadata": {},
   "outputs": [
    {
     "name": "stdout",
     "output_type": "stream",
     "text": [
      "---------------------------------------TEST DATA [ROC AUC]----------------------------------------------\n",
      "\n",
      "Receiver Operating Characteristic Curve (ROC AUC) \n",
      "\n",
      "0.8306548814785054\n"
     ]
    }
   ],
   "source": [
    "print(\"---------------------------------------TEST DATA [ROC AUC]----------------------------------------------\")\n",
    "print(\"\\nReceiver Operating Characteristic Curve (ROC AUC) \\n\")\n",
    "print(roc_auc_score(y_test, y_test_pred))\n",
    "fpr, tpr, _ = roc_curve(y_test, y_test_pred)"
   ]
  },
  {
   "cell_type": "code",
   "execution_count": 24,
   "metadata": {},
   "outputs": [
    {
     "data": {
      "image/png": "[encoded data removed]",
      "text/plain": [
       "<Figure size 432x288 with 1 Axes>"
      ]
     },
     "metadata": {
      "needs_background": "light"
     },
     "output_type": "display_data"
    }
   ],
   "source": [
    "plt.clf()\n",
    "plt.plot(fpr, tpr)\n",
    "plt.xlabel('FPR')\n",
    "plt.ylabel('TPR')\n",
    "plt.title('ROC curve')\n",
    "plt.show()"
   ]
  },
  {
   "cell_type": "code",
   "execution_count": 25,
   "metadata": {},
   "outputs": [
    {
     "name": "stdout",
     "output_type": "stream",
     "text": [
      "\n",
      "Variable Importance Graph\n",
      "\n"
     ]
    },
    {
     "data": {
      "text/plain": [
       "<matplotlib.axes._subplots.AxesSubplot at 0x1af018e1390>"
      ]
     },
     "execution_count": 25,
     "metadata": {},
     "output_type": "execute_result"
    },
    {
     "data": {
      "image/png": "[encoded data removed]",
      "text/plain": [
       "<Figure size 432x288 with 1 Axes>"
      ]
     },
     "metadata": {
      "needs_background": "light"
     },
     "output_type": "display_data"
    }
   ],
   "source": [
    "print(\"\\nVariable Importance Graph\\n\")\n",
    "(pd.Series(classifier.coef_[0], index=X_test.columns)\n",
    "   .nlargest(4)\n",
    "   .plot(kind='barh')\n",
    ")"
   ]
  },
  {
   "cell_type": "code",
   "execution_count": 26,
   "metadata": {},
   "outputs": [
    {
     "name": "stdout",
     "output_type": "stream",
     "text": [
      "-------------------------------------------------------\n",
      "DECISION TREE ------> INSTRUCTOR 3\n",
      "-------------------------------------------------------\n",
      "\n",
      "instructor 3 shape: (1568, 35)\n"
     ]
    }
   ],
   "source": [
    "print(\"-------------------------------------------------------\")\n",
    "print(\"DECISION TREE ------> INSTRUCTOR 3\")\n",
    "print(\"-------------------------------------------------------\")\n",
    "ds_instr_3 = ds.loc[ds['instr']==3]\n",
    "print(\"\\ninstructor 3 shape:\", ds_instr_3.shape)"
   ]
  },
  {
   "cell_type": "code",
   "execution_count": 27,
   "metadata": {},
   "outputs": [],
   "source": [
    "X3 = ds_instr_3.drop('PERFORMANCE', axis=1) \n",
    "y3 = ds_instr_3['PERFORMANCE'] "
   ]
  },
  {
   "cell_type": "code",
   "execution_count": 28,
   "metadata": {},
   "outputs": [
    {
     "name": "stderr",
     "output_type": "stream",
     "text": [
      "C:\\Users\\Simran\\Anaconda3\\lib\\site-packages\\sklearn\\discriminant_analysis.py:388: UserWarning: Variables are collinear.\n",
      "  warnings.warn(\"Variables are collinear.\")\n"
     ]
    }
   ],
   "source": [
    "X_train, X_test, y_train, y_test = train_test_split(X3, y3, test_size=0.20)\n",
    "classifier = LinearDiscriminantAnalysis(n_components = 2)\n",
    "classifier.fit(X_train, y_train)\n",
    "y_test_pred = classifier.predict(X_test)"
   ]
  },
  {
   "cell_type": "code",
   "execution_count": 29,
   "metadata": {},
   "outputs": [
    {
     "name": "stdout",
     "output_type": "stream",
     "text": [
      "\n",
      "Confusion Matrix\n",
      "\n",
      "[[ 93  18]\n",
      " [  3 200]]\n"
     ]
    }
   ],
   "source": [
    "print(\"\\nConfusion Matrix\\n\")\n",
    "print(confusion_matrix(y_test, y_test_pred)) "
   ]
  },
  {
   "cell_type": "code",
   "execution_count": 30,
   "metadata": {},
   "outputs": [
    {
     "name": "stdout",
     "output_type": "stream",
     "text": [
      "\n",
      "Classification Report\n",
      "\n",
      "              precision    recall  f1-score   support\n",
      "\n",
      "           0       0.97      0.84      0.90       111\n",
      "           1       0.92      0.99      0.95       203\n",
      "\n",
      "   micro avg       0.93      0.93      0.93       314\n",
      "   macro avg       0.94      0.91      0.92       314\n",
      "weighted avg       0.94      0.93      0.93       314\n",
      "\n"
     ]
    }
   ],
   "source": [
    "print(\"\\nClassification Report\\n\")\n",
    "print(classification_report(y_test, y_test_pred)) "
   ]
  },
  {
   "cell_type": "code",
   "execution_count": 31,
   "metadata": {},
   "outputs": [
    {
     "name": "stdout",
     "output_type": "stream",
     "text": [
      "\n",
      "Accuracy Score\n",
      "\n",
      "0.9331210191082803\n"
     ]
    }
   ],
   "source": [
    "print(\"\\nAccuracy Score\\n\")\n",
    "print(accuracy_score(y_test, y_test_pred))"
   ]
  },
  {
   "cell_type": "code",
   "execution_count": 32,
   "metadata": {},
   "outputs": [
    {
     "name": "stdout",
     "output_type": "stream",
     "text": [
      "---------------------------------------TEST DATA [ROC AUC]----------------------------------------------\n",
      "\n",
      "Receiver Operating Characteristic Curve (ROC AUC) \n",
      "\n",
      "0.9115297563573427\n"
     ]
    }
   ],
   "source": [
    "print(\"---------------------------------------TEST DATA [ROC AUC]----------------------------------------------\")\n",
    "print(\"\\nReceiver Operating Characteristic Curve (ROC AUC) \\n\")\n",
    "print(roc_auc_score(y_test, y_test_pred))\n",
    "fpr, tpr, _ = roc_curve(y_test, y_test_pred)"
   ]
  },
  {
   "cell_type": "code",
   "execution_count": 33,
   "metadata": {},
   "outputs": [
    {
     "data": {
      "image/png": "[encoded data removed]",
      "text/plain": [
       "<Figure size 432x288 with 1 Axes>"
      ]
     },
     "metadata": {
      "needs_background": "light"
     },
     "output_type": "display_data"
    }
   ],
   "source": [
    "plt.clf()\n",
    "plt.plot(fpr, tpr)\n",
    "plt.xlabel('FPR')\n",
    "plt.ylabel('TPR')\n",
    "plt.title('ROC curve')\n",
    "plt.show()"
   ]
  },
  {
   "cell_type": "code",
   "execution_count": 34,
   "metadata": {},
   "outputs": [
    {
     "name": "stdout",
     "output_type": "stream",
     "text": [
      "\n",
      "Variable Importance Graph\n",
      "\n"
     ]
    },
    {
     "data": {
      "text/plain": [
       "<matplotlib.axes._subplots.AxesSubplot at 0x1af01d10ef0>"
      ]
     },
     "execution_count": 34,
     "metadata": {},
     "output_type": "execute_result"
    },
    {
     "data": {
      "image/png": "[encoded data removed]",
      "text/plain": [
       "<Figure size 432x288 with 1 Axes>"
      ]
     },
     "metadata": {
      "needs_background": "light"
     },
     "output_type": "display_data"
    }
   ],
   "source": [
    "print(\"\\nVariable Importance Graph\\n\")\n",
    "(pd.Series(classifier.coef_[0], index=X_test.columns)\n",
    "   .nlargest(4)\n",
    "   .plot(kind='barh')\n",
    ")"
   ]
  },
  {
   "cell_type": "code",
   "execution_count": null,
   "metadata": {},
   "outputs": [],
   "source": []
  },
  {
   "cell_type": "code",
   "execution_count": null,
   "metadata": {},
   "outputs": [],
   "source": []
  },
  {
   "cell_type": "code",
   "execution_count": null,
   "metadata": {},
   "outputs": [],
   "source": []
  }
 ],
 "metadata": {
  "kernelspec": {
   "display_name": "Python 3",
   "language": "python",
   "name": "python3"
  },
  "language_info": {
   "codemirror_mode": {
    "name": "ipython",
    "version": 3
   },
   "file_extension": ".py",
   "mimetype": "text/x-python",
   "name": "python",
   "nbconvert_exporter": "python",
   "pygments_lexer": "ipython3",
   "version": "3.7.3"
  }
 },
 "nbformat": 4,
 "nbformat_minor": 2
}
