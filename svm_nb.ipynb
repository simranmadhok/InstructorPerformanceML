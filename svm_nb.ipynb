{
 "cells": [
  {
   "cell_type": "code",
   "execution_count": 1,
   "metadata": {},
   "outputs": [],
   "source": [
    "%matplotlib inline\n",
    "import pandas as pd\n",
    "from sklearn.model_selection import train_test_split  \n",
    "from sklearn import svm\n",
    "from sklearn.metrics import classification_report, confusion_matrix, roc_auc_score, roc_curve, accuracy_score\n",
    "import matplotlib.pyplot as plt\n",
    "from sklearn.metrics import accuracy_score"
   ]
  },
  {
   "cell_type": "code",
   "execution_count": 2,
   "metadata": {},
   "outputs": [
    {
     "name": "stdout",
     "output_type": "stream",
     "text": [
      "\n",
      "ds.shape: (5820, 35)\n",
      "\n",
      "after filter ds.shape: (2762, 35)\n"
     ]
    }
   ],
   "source": [
    "ds = pd.read_csv(r\"final_dataset.csv\")\n",
    "print(\"\\nds.shape:\", ds.shape)\n",
    "ds = ds.loc[(ds['nb.repeat']<=2) & (ds['attendance']>=2)]\n",
    "print(\"\\nafter filter ds.shape:\", ds.shape)"
   ]
  },
  {
   "cell_type": "code",
   "execution_count": 3,
   "metadata": {},
   "outputs": [
    {
     "name": "stdout",
     "output_type": "stream",
     "text": [
      "-------------------------------------------------------\n",
      "DECISION TREE ------> INSTRUCTOR 1\n",
      "-------------------------------------------------------\n",
      "\n",
      "instructor 1 shape: (448, 35)\n"
     ]
    }
   ],
   "source": [
    "print(\"-------------------------------------------------------\")\n",
    "print(\"DECISION TREE ------> INSTRUCTOR 1\")\n",
    "print(\"-------------------------------------------------------\")\n",
    "ds_instr_1 = ds.loc[ds['instr']==1]\n",
    "print(\"\\ninstructor 1 shape:\", ds_instr_1.shape)"
   ]
  },
  {
   "cell_type": "code",
   "execution_count": 4,
   "metadata": {},
   "outputs": [],
   "source": [
    "X1 = ds_instr_1.drop('PERFORMANCE', axis=1) \n",
    "y1 = ds_instr_1['PERFORMANCE'] "
   ]
  },
  {
   "cell_type": "code",
   "execution_count": 5,
   "metadata": {},
   "outputs": [],
   "source": [
    "X_train, X_test, y_train, y_test = train_test_split(X1, y1, test_size=0.20)\n",
    "classifier = svm.SVC(gamma=0.001, C=100., kernel = 'linear')\n",
    "classifier.fit(X_train, y_train)\n",
    "y_test_pred = classifier.predict(X_test)"
   ]
  },
  {
   "cell_type": "code",
   "execution_count": 6,
   "metadata": {},
   "outputs": [
    {
     "name": "stdout",
     "output_type": "stream",
     "text": [
      "\n",
      "Confusion Matrix\n",
      "\n",
      "[[24  1]\n",
      " [ 1 64]]\n"
     ]
    }
   ],
   "source": [
    "print(\"\\nConfusion Matrix\\n\")\n",
    "print(confusion_matrix(y_test, y_test_pred)) "
   ]
  },
  {
   "cell_type": "code",
   "execution_count": 7,
   "metadata": {},
   "outputs": [
    {
     "name": "stdout",
     "output_type": "stream",
     "text": [
      "\n",
      "Classification Report\n",
      "\n",
      "              precision    recall  f1-score   support\n",
      "\n",
      "           0       0.96      0.96      0.96        25\n",
      "           1       0.98      0.98      0.98        65\n",
      "\n",
      "   micro avg       0.98      0.98      0.98        90\n",
      "   macro avg       0.97      0.97      0.97        90\n",
      "weighted avg       0.98      0.98      0.98        90\n",
      "\n"
     ]
    }
   ],
   "source": [
    "print(\"\\nClassification Report\\n\")\n",
    "print(classification_report(y_test, y_test_pred))"
   ]
  },
  {
   "cell_type": "code",
   "execution_count": 8,
   "metadata": {},
   "outputs": [
    {
     "name": "stdout",
     "output_type": "stream",
     "text": [
      "\n",
      "Accuracy Score\n",
      "\n",
      "0.9777777777777777\n"
     ]
    }
   ],
   "source": [
    "print(\"\\nAccuracy Score\\n\")\n",
    "print(accuracy_score(y_test, y_test_pred))"
   ]
  },
  {
   "cell_type": "code",
   "execution_count": 9,
   "metadata": {},
   "outputs": [
    {
     "name": "stdout",
     "output_type": "stream",
     "text": [
      "---------------------------------------TEST DATA [ROC AUC]----------------------------------------------\n",
      "\n",
      "Receiver Operating Characteristic Curve (ROC AUC) \n",
      "\n",
      "0.9723076923076923\n"
     ]
    }
   ],
   "source": [
    "print(\"---------------------------------------TEST DATA [ROC AUC]----------------------------------------------\")\n",
    "print(\"\\nReceiver Operating Characteristic Curve (ROC AUC) \\n\")\n",
    "print(roc_auc_score(y_test, y_test_pred))\n",
    "fpr, tpr, _ = roc_curve(y_test, y_test_pred)"
   ]
  },
  {
   "cell_type": "code",
   "execution_count": 10,
   "metadata": {},
   "outputs": [
    {
     "data": {
      "image/png": "[encoded data removed]",
      "text/plain": [
       "<Figure size 432x288 with 1 Axes>"
      ]
     },
     "metadata": {
      "needs_background": "light"
     },
     "output_type": "display_data"
    }
   ],
   "source": [
    "plt.clf()\n",
    "plt.plot(fpr, tpr)\n",
    "plt.xlabel('FPR')\n",
    "plt.ylabel('TPR')\n",
    "plt.title('ROC curve')\n",
    "plt.show()"
   ]
  },
  {
   "cell_type": "code",
   "execution_count": 11,
   "metadata": {},
   "outputs": [
    {
     "name": "stdout",
     "output_type": "stream",
     "text": [
      "\n",
      "Variable Importance Graph\n",
      "\n"
     ]
    },
    {
     "data": {
      "text/plain": [
       "<matplotlib.axes._subplots.AxesSubplot at 0x20a084757b8>"
      ]
     },
     "execution_count": 11,
     "metadata": {},
     "output_type": "execute_result"
    },
    {
     "data": {
      "image/png": "[encoded data removed]",
      "text/plain": [
       "<Figure size 432x288 with 1 Axes>"
      ]
     },
     "metadata": {
      "needs_background": "light"
     },
     "output_type": "display_data"
    }
   ],
   "source": [
    "print(\"\\nVariable Importance Graph\\n\")\n",
    "(pd.Series(classifier.coef_[0], index=X_test.columns)\n",
    "   .nlargest(4)\n",
    "   .plot(kind='barh')\n",
    ")"
   ]
  },
  {
   "cell_type": "code",
   "execution_count": 12,
   "metadata": {},
   "outputs": [
    {
     "name": "stdout",
     "output_type": "stream",
     "text": [
      "-------------------------------------------------------\n",
      "DECISION TREE ------> INSTRUCTOR 2\n",
      "-------------------------------------------------------\n",
      "\n",
      "instructor 2 shape: (746, 35)\n"
     ]
    }
   ],
   "source": [
    "print(\"-------------------------------------------------------\")\n",
    "print(\"DECISION TREE ------> INSTRUCTOR 2\")\n",
    "print(\"-------------------------------------------------------\")\n",
    "ds_instr_2 = ds.loc[ds['instr']==2]\n",
    "print(\"\\ninstructor 2 shape:\", ds_instr_2.shape)"
   ]
  },
  {
   "cell_type": "code",
   "execution_count": 13,
   "metadata": {},
   "outputs": [],
   "source": [
    "X2 = ds_instr_2.drop('PERFORMANCE', axis=1) \n",
    "y2 = ds_instr_2['PERFORMANCE'] "
   ]
  },
  {
   "cell_type": "code",
   "execution_count": 14,
   "metadata": {},
   "outputs": [],
   "source": [
    "X_train, X_test, y_train, y_test = train_test_split(X2, y2, test_size=0.20)\n",
    "classifier = svm.SVC(gamma=0.001, C=100., kernel = 'linear')\n",
    "classifier.fit(X_train, y_train)\n",
    "y_test_pred = classifier.predict(X_test)"
   ]
  },
  {
   "cell_type": "code",
   "execution_count": 15,
   "metadata": {},
   "outputs": [
    {
     "name": "stdout",
     "output_type": "stream",
     "text": [
      "\n",
      "Confusion Matrix\n",
      "\n",
      "[[ 19   0]\n",
      " [  3 128]]\n"
     ]
    }
   ],
   "source": [
    "print(\"\\nConfusion Matrix\\n\")\n",
    "print(confusion_matrix(y_test, y_test_pred)) "
   ]
  },
  {
   "cell_type": "code",
   "execution_count": 16,
   "metadata": {},
   "outputs": [
    {
     "name": "stdout",
     "output_type": "stream",
     "text": [
      "\n",
      "Classification Report\n",
      "\n",
      "              precision    recall  f1-score   support\n",
      "\n",
      "           0       0.86      1.00      0.93        19\n",
      "           1       1.00      0.98      0.99       131\n",
      "\n",
      "   micro avg       0.98      0.98      0.98       150\n",
      "   macro avg       0.93      0.99      0.96       150\n",
      "weighted avg       0.98      0.98      0.98       150\n",
      "\n"
     ]
    }
   ],
   "source": [
    "print(\"\\nClassification Report\\n\")\n",
    "print(classification_report(y_test, y_test_pred)) "
   ]
  },
  {
   "cell_type": "code",
   "execution_count": 17,
   "metadata": {},
   "outputs": [
    {
     "name": "stdout",
     "output_type": "stream",
     "text": [
      "\n",
      "Accuracy Score\n",
      "\n",
      "0.98\n"
     ]
    }
   ],
   "source": [
    "print(\"\\nAccuracy Score\\n\")\n",
    "print(accuracy_score(y_test, y_test_pred))"
   ]
  },
  {
   "cell_type": "code",
   "execution_count": 18,
   "metadata": {},
   "outputs": [
    {
     "name": "stdout",
     "output_type": "stream",
     "text": [
      "---------------------------------------TEST DATA [ROC AUC]----------------------------------------------\n",
      "\n",
      "Receiver Operating Characteristic Curve (ROC AUC) \n",
      "\n",
      "0.9885496183206106\n"
     ]
    }
   ],
   "source": [
    "print(\"---------------------------------------TEST DATA [ROC AUC]----------------------------------------------\")\n",
    "print(\"\\nReceiver Operating Characteristic Curve (ROC AUC) \\n\")\n",
    "print(roc_auc_score(y_test, y_test_pred))\n",
    "fpr, tpr, _ = roc_curve(y_test, y_test_pred)"
   ]
  },
  {
   "cell_type": "code",
   "execution_count": 19,
   "metadata": {},
   "outputs": [
    {
     "data": {
      "image/png": "[encoded data removed]",
      "text/plain": [
       "<Figure size 432x288 with 1 Axes>"
      ]
     },
     "metadata": {
      "needs_background": "light"
     },
     "output_type": "display_data"
    }
   ],
   "source": [
    "plt.clf()\n",
    "plt.plot(fpr, tpr)\n",
    "plt.xlabel('FPR')\n",
    "plt.ylabel('TPR')\n",
    "plt.title('ROC curve')\n",
    "plt.show()"
   ]
  },
  {
   "cell_type": "code",
   "execution_count": 20,
   "metadata": {},
   "outputs": [
    {
     "name": "stdout",
     "output_type": "stream",
     "text": [
      "\n",
      "Variable Importance Graph\n",
      "\n"
     ]
    },
    {
     "data": {
      "text/plain": [
       "<matplotlib.axes._subplots.AxesSubplot at 0x20a088c4b70>"
      ]
     },
     "execution_count": 20,
     "metadata": {},
     "output_type": "execute_result"
    },
    {
     "data": {
      "image/png": "[encoded data removed]",
      "text/plain": [
       "<Figure size 432x288 with 1 Axes>"
      ]
     },
     "metadata": {
      "needs_background": "light"
     },
     "output_type": "display_data"
    }
   ],
   "source": [
    "print(\"\\nVariable Importance Graph\\n\")\n",
    "(pd.Series(classifier.coef_[0], index=X_test.columns)\n",
    "   .nlargest(4)\n",
    "   .plot(kind='barh')\n",
    ")"
   ]
  },
  {
   "cell_type": "code",
   "execution_count": 21,
   "metadata": {},
   "outputs": [
    {
     "name": "stdout",
     "output_type": "stream",
     "text": [
      "-------------------------------------------------------\n",
      "DECISION TREE ------> INSTRUCTOR 3\n",
      "-------------------------------------------------------\n",
      "\n",
      "instructor 3 shape: (1568, 35)\n"
     ]
    }
   ],
   "source": [
    "print(\"-------------------------------------------------------\")\n",
    "print(\"DECISION TREE ------> INSTRUCTOR 3\")\n",
    "print(\"-------------------------------------------------------\")\n",
    "ds_instr_3 = ds.loc[ds['instr']==3]\n",
    "print(\"\\ninstructor 3 shape:\", ds_instr_3.shape)"
   ]
  },
  {
   "cell_type": "code",
   "execution_count": 22,
   "metadata": {},
   "outputs": [],
   "source": [
    "X3 = ds_instr_3.drop('PERFORMANCE', axis=1) \n",
    "y3 = ds_instr_3['PERFORMANCE'] "
   ]
  },
  {
   "cell_type": "code",
   "execution_count": 23,
   "metadata": {},
   "outputs": [],
   "source": [
    "X_train, X_test, y_train, y_test = train_test_split(X3, y3, test_size=0.20)\n",
    "classifier = svm.SVC(gamma=0.001, C=100., kernel = 'linear')\n",
    "classifier.fit(X_train, y_train)\n",
    "y_test_pred = classifier.predict(X_test)"
   ]
  },
  {
   "cell_type": "code",
   "execution_count": 24,
   "metadata": {},
   "outputs": [
    {
     "name": "stdout",
     "output_type": "stream",
     "text": [
      "\n",
      "Confusion Matrix\n",
      "\n",
      "[[ 82   5]\n",
      " [  1 226]]\n"
     ]
    }
   ],
   "source": [
    "print(\"\\nConfusion Matrix\\n\")\n",
    "print(confusion_matrix(y_test, y_test_pred)) "
   ]
  },
  {
   "cell_type": "code",
   "execution_count": 25,
   "metadata": {},
   "outputs": [
    {
     "name": "stdout",
     "output_type": "stream",
     "text": [
      "\n",
      "Classification Report\n",
      "\n",
      "              precision    recall  f1-score   support\n",
      "\n",
      "           0       0.99      0.94      0.96        87\n",
      "           1       0.98      1.00      0.99       227\n",
      "\n",
      "   micro avg       0.98      0.98      0.98       314\n",
      "   macro avg       0.98      0.97      0.98       314\n",
      "weighted avg       0.98      0.98      0.98       314\n",
      "\n"
     ]
    }
   ],
   "source": [
    "print(\"\\nClassification Report\\n\")\n",
    "print(classification_report(y_test, y_test_pred)) "
   ]
  },
  {
   "cell_type": "code",
   "execution_count": 26,
   "metadata": {},
   "outputs": [
    {
     "name": "stdout",
     "output_type": "stream",
     "text": [
      "\n",
      "Accuracy Score\n",
      "\n",
      "0.9808917197452229\n"
     ]
    }
   ],
   "source": [
    "print(\"\\nAccuracy Score\\n\")\n",
    "print(accuracy_score(y_test, y_test_pred))"
   ]
  },
  {
   "cell_type": "code",
   "execution_count": 27,
   "metadata": {},
   "outputs": [
    {
     "name": "stdout",
     "output_type": "stream",
     "text": [
      "---------------------------------------TEST DATA [ROC AUC]----------------------------------------------\n",
      "\n",
      "Receiver Operating Characteristic Curve (ROC AUC) \n",
      "\n",
      "0.9690617246442857\n"
     ]
    }
   ],
   "source": [
    "print(\"---------------------------------------TEST DATA [ROC AUC]----------------------------------------------\")\n",
    "print(\"\\nReceiver Operating Characteristic Curve (ROC AUC) \\n\")\n",
    "print(roc_auc_score(y_test, y_test_pred))\n",
    "fpr, tpr, _ = roc_curve(y_test, y_test_pred)"
   ]
  },
  {
   "cell_type": "code",
   "execution_count": 28,
   "metadata": {},
   "outputs": [
    {
     "data": {
      "image/png": "[encoded data removed]",
      "text/plain": [
       "<Figure size 432x288 with 1 Axes>"
      ]
     },
     "metadata": {
      "needs_background": "light"
     },
     "output_type": "display_data"
    }
   ],
   "source": [
    "plt.clf()\n",
    "plt.plot(fpr, tpr)\n",
    "plt.xlabel('FPR')\n",
    "plt.ylabel('TPR')\n",
    "plt.title('ROC curve')\n",
    "plt.show()"
   ]
  },
  {
   "cell_type": "code",
   "execution_count": 29,
   "metadata": {},
   "outputs": [
    {
     "name": "stdout",
     "output_type": "stream",
     "text": [
      "\n",
      "Variable Importance Graph\n",
      "\n"
     ]
    },
    {
     "data": {
      "text/plain": [
       "<matplotlib.axes._subplots.AxesSubplot at 0x20a089967b8>"
      ]
     },
     "execution_count": 29,
     "metadata": {},
     "output_type": "execute_result"
    },
    {
     "data": {
      "image/png": "[encoded data removed]",
      "text/plain": [
       "<Figure size 432x288 with 1 Axes>"
      ]
     },
     "metadata": {
      "needs_background": "light"
     },
     "output_type": "display_data"
    }
   ],
   "source": [
    "print(\"\\nVariable Importance Graph\\n\")\n",
    "(pd.Series(classifier.coef_[0], index=X_test.columns)\n",
    "   .nlargest(4)\n",
    "   .plot(kind='barh')\n",
    ")"
   ]
  },
  {
   "cell_type": "code",
   "execution_count": null,
   "metadata": {},
   "outputs": [],
   "source": []
  },
  {
   "cell_type": "code",
   "execution_count": null,
   "metadata": {},
   "outputs": [],
   "source": []
  }
 ],
 "metadata": {
  "kernelspec": {
   "display_name": "Python 3",
   "language": "python",
   "name": "python3"
  },
  "language_info": {
   "codemirror_mode": {
    "name": "ipython",
    "version": 3
   },
   "file_extension": ".py",
   "mimetype": "text/x-python",
   "name": "python",
   "nbconvert_exporter": "python",
   "pygments_lexer": "ipython3",
   "version": "3.7.3"
  }
 },
 "nbformat": 4,
 "nbformat_minor": 2
}
